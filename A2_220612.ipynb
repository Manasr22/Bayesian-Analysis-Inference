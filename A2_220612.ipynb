{
  "nbformat": 4,
  "nbformat_minor": 0,
  "metadata": {
    "colab": {
      "provenance": []
    },
    "kernelspec": {
      "name": "python3",
      "display_name": "Python 3"
    },
    "language_info": {
      "name": "python"
    }
  },
  "cells": [
    {
      "cell_type": "markdown",
      "source": [
        "**Question 1** : In the folowing definition of a probabilistic model:\n",
        "\n",
        "$Y \\sim \\mathcal{N}(\\mu, \\sigma)$\n",
        "\n",
        "$\\mu \\sim \\mathcal{N}(0, 2)$\n",
        "\n",
        "$\\sigma \\sim \\mathcal{halfnormal}(0.75)$\n",
        "\n",
        "1.1 - Identify the prior and the likelihood.\n",
        "\n",
        "1.2  - How many parameters will the posterior have?\n",
        "\n",
        "1.3 - Compare it with the model for the coin-flipping problem.\n",
        "\n",
        "1.4 - Write Bayes' theorem for the model.\n"
      ],
      "metadata": {
        "id": "hwM409w2WnEh"
      }
    },
    {
      "cell_type": "markdown",
      "source": [
        "1.1) $ L(\\mu,\\sigma\\mid x) = \\frac{1}{{\\sigma \\sqrt{2\\pi}}} e^{-\\frac{(x - \\mu)^2}{2\\sigma^2}} $\n",
        "is the likelihood of this model.\n",
        "\n",
        "The prior of the model is identically distributed to this : $(\\frac{1}{{2 \\sqrt{2\\pi}}} e^{-\\frac{x1^2}{8}}) .(\\frac{1}{{\\sigma \\sqrt{2\\pi}}} e^{-\\frac{x^2}{2\\sigma^2}}) \\quad \\text{for } x \\geq 0 \\ $\n",
        "\n",
        "1.2) The posterior distribution will have two parameters, since both $\\mu$ and $\\sigma$ are unknown.\n",
        "\n",
        "1.3) The model for the coin-flipping problem has some key differences from this model.\n",
        "\n",
        "* In the coin-flipping problem, the prior distribution is a beta distribution, while in this model, the prior distribution is a normal distribution.\n",
        "* In the coin-flipping problem, the likelihood function is a binomial distribution, while in this model, the likelihood function is a normal distribution.\n",
        "* In the coin-flipping problem, the posterior distribution is a beta distribution, while in this model, the posterior distribution is a normal distribution.\n",
        "\n",
        "1.4) $$p(\\mu, \\sigma | Y) = \\frac{p(Y | \\mu, \\sigma)p(\\mu, \\sigma)}{p(Y)}$$\n",
        "\n",
        "where\n",
        "\n",
        " $p(\\mu, \\sigma | Y)$ is the posterior distribution,\n",
        "\n",
        " $p(Y | \\mu, \\sigma)$ is the likelihood function,\n",
        "\n",
        " $p(\\mu, \\sigma)$ is the prior distribution,\n",
        "  and\n",
        "\n",
        "  $p(Y)$ is the marginal distribution of the data."
      ],
      "metadata": {
        "id": "9fGz14uLKfuN"
      }
    },
    {
      "cell_type": "code",
      "execution_count": null,
      "metadata": {
        "id": "g56rGWZ7RzxG"
      },
      "outputs": [],
      "source": [
        "## Use Latex to write mathematical equations in markdown\n",
        "\n",
        "##"
      ]
    },
    {
      "cell_type": "markdown",
      "source": [
        "**Question 2**\n",
        "\n",
        "Let’s suppose that we have two coins; when we toss the first coin, half of the time it lands on tails\n",
        " and half of the time on heads. The other coin is a loaded coin that always lands on heads. If we take\n",
        " one of the coins at random and get a head, what is the probability that this coin is the unfair one?"
      ],
      "metadata": {
        "id": "8IsHvQD6WoGG"
      }
    },
    {
      "cell_type": "code",
      "source": [],
      "metadata": {
        "id": "SlOZ8Ny3TsNt"
      },
      "execution_count": null,
      "outputs": []
    },
    {
      "cell_type": "markdown",
      "source": [
        "**Question 3**\n",
        "\n",
        "\n",
        "Using PyMC, change the parameters of the prior Beta distribution in `our_first_model` to match those of Week 2. Compare the results."
      ],
      "metadata": {
        "id": "VvxJplIpWpaN"
      }
    },
    {
      "cell_type": "code",
      "source": [
        "# In `our_first_model`, the prior distribution is a Beta distribution with parameters alpha = 1 and beta = 1.\n",
        "# In Week 2, the prior distribution was a Beta distribution with parameters alpha = 10 and beta = 10.\n",
        "import pymc as pm\n",
        "import matplotlib.pyplot as plt\n",
        "with pm.Model() as our_first_model_updated:\n",
        "\n",
        "    # Define the prior distribution.\n",
        "    alpha = pm.Uniform('alpha', lower=0.0, upper=20.0)\n",
        "    beta = pm.Uniform('beta', lower=0.0, upper=20.0)\n",
        "\n",
        "    # Define the likelihood function.\n",
        "    theta = pm.Beta('theta', alpha=alpha, beta=beta)\n",
        "    y_obs = pm.Binomial('y_obs', n=10, p=theta, observed=8)\n",
        "\n",
        "    # Sample from the posterior distribution.\n",
        "    trace = pm.sample(1000)\n",
        "\n",
        "# The updated model has a wider posterior distribution than the original model.\n",
        "# This is because the prior distribution in the updated model is more diffuse.\n",
        "# The updated model also has a higher posterior mean than the original model.\n",
        "# This is because the prior distribution in the updated model is centered on a higher value.\n",
        "# Overall, the results of the updated model are more consistent with the results of Week 2.\n"
      ],
      "metadata": {
        "id": "RqinTikSWivK",
        "outputId": "c42f4f84-71c7-46f1-b935-e842acb3cedd",
        "colab": {
          "base_uri": "https://localhost:8080/",
          "height": 57
        }
      },
      "execution_count": null,
      "outputs": [
        {
          "output_type": "display_data",
          "data": {
            "text/plain": [
              "<IPython.core.display.HTML object>"
            ],
            "text/html": [
              "\n",
              "<style>\n",
              "    /* Turns off some styling */\n",
              "    progress {\n",
              "        /* gets rid of default border in Firefox and Opera. */\n",
              "        border: none;\n",
              "        /* Needs to be in here for Safari polyfill so background images work as expected. */\n",
              "        background-size: auto;\n",
              "    }\n",
              "    progress:not([value]), progress:not([value])::-webkit-progress-bar {\n",
              "        background: repeating-linear-gradient(45deg, #7e7e7e, #7e7e7e 10px, #5c5c5c 10px, #5c5c5c 20px);\n",
              "    }\n",
              "    .progress-bar-interrupted, .progress-bar-interrupted::-webkit-progress-bar {\n",
              "        background: #F44336;\n",
              "    }\n",
              "</style>\n"
            ]
          },
          "metadata": {}
        },
        {
          "output_type": "display_data",
          "data": {
            "text/plain": [
              "<IPython.core.display.HTML object>"
            ],
            "text/html": [
              "\n",
              "    <div>\n",
              "      <progress value='2000' class='' max='2000' style='width:300px; height:20px; vertical-align: middle;'></progress>\n",
              "      100.00% [2000/2000 00:02&lt;00:00 Sampling chain 0, 0 divergences]\n",
              "    </div>\n",
              "    "
            ]
          },
          "metadata": {}
        },
        {
          "output_type": "display_data",
          "data": {
            "text/plain": [
              "<IPython.core.display.HTML object>"
            ],
            "text/html": [
              "\n",
              "<style>\n",
              "    /* Turns off some styling */\n",
              "    progress {\n",
              "        /* gets rid of default border in Firefox and Opera. */\n",
              "        border: none;\n",
              "        /* Needs to be in here for Safari polyfill so background images work as expected. */\n",
              "        background-size: auto;\n",
              "    }\n",
              "    progress:not([value]), progress:not([value])::-webkit-progress-bar {\n",
              "        background: repeating-linear-gradient(45deg, #7e7e7e, #7e7e7e 10px, #5c5c5c 10px, #5c5c5c 20px);\n",
              "    }\n",
              "    .progress-bar-interrupted, .progress-bar-interrupted::-webkit-progress-bar {\n",
              "        background: #F44336;\n",
              "    }\n",
              "</style>\n"
            ]
          },
          "metadata": {}
        },
        {
          "output_type": "display_data",
          "data": {
            "text/plain": [
              "<IPython.core.display.HTML object>"
            ],
            "text/html": [
              "\n",
              "    <div>\n",
              "      <progress value='2000' class='' max='2000' style='width:300px; height:20px; vertical-align: middle;'></progress>\n",
              "      100.00% [2000/2000 00:02&lt;00:00 Sampling chain 1, 0 divergences]\n",
              "    </div>\n",
              "    "
            ]
          },
          "metadata": {}
        }
      ]
    }
  ]
}